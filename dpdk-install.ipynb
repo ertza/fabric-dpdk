{
 "cells": [
  {
   "cell_type": "markdown",
   "id": "ea122746-db34-4bd0-b2ef-324d6dd62188",
   "metadata": {},
   "source": [
    "# Init "
   ]
  },
  {
   "cell_type": "code",
   "execution_count": 8,
   "id": "9e52749f-17bf-4168-96a7-0708a05002ec",
   "metadata": {},
   "outputs": [],
   "source": [
    "from fabrictestbed_extensions.fablib.fablib import FablibManager as fablib_manager\n",
    "fablib = fablib_manager()"
   ]
  },
  {
   "cell_type": "markdown",
   "id": "7fd6f850-4330-4800-8438-e74ca3124434",
   "metadata": {},
   "source": [
    "# Slice Creation"
   ]
  },
  {
   "cell_type": "code",
   "execution_count": 19,
   "id": "ee05e8c9-795d-4e71-9fff-d691d7c0188c",
   "metadata": {},
   "outputs": [],
   "source": [
    "# Slice metadata\n",
    "slice_name = 'dpdk-slice'\n",
    "site = 'MAX'\n",
    "num_nodes = 2\n",
    "network_name='net'"
   ]
  },
  {
   "cell_type": "code",
   "execution_count": 10,
   "id": "0dadacb7-2771-4030-9ade-029f005c9097",
   "metadata": {},
   "outputs": [
    {
     "name": "stdout",
     "output_type": "stream",
     "text": [
      "\n",
      "-----------  ------------------------------------\n",
      "Slice Name   dpdk-slice\n",
      "Slice ID     98549972-4d27-41fc-81fa-34d0c554d951\n",
      "Slice State  StableOK\n",
      "Lease End    2022-09-28 01:51:32 +0000\n",
      "-----------  ------------------------------------\n",
      "\n",
      "Retry: 5, Time: 186 sec\n",
      "\n",
      "ID                                    Name    Site    Host                         Cores    RAM    Disk  Image              Management IP    State    Error\n",
      "------------------------------------  ------  ------  -------------------------  -------  -----  ------  -----------------  ---------------  -------  -------\n",
      "350933dd-cb23-4465-a70f-89c7ccac5c3e  Node_0  MAX     max-w4.fabric-testbed.net        8     16     100  default_ubuntu_20  63.239.135.99    Active\n",
      "eb8b730f-cd55-45ef-af34-270b47846d66  Node_1  MAX     max-w4.fabric-testbed.net        8     16     100  default_ubuntu_20  63.239.135.69    Active\n",
      "\n",
      "Time to stable 186 seconds\n",
      "Running post_boot_config ... Time to post boot config 197 seconds\n",
      "\n",
      "Name            Node    Network      Bandwidth  VLAN    MAC                Physical OS Interface    OS Interface\n",
      "--------------  ------  ---------  -----------  ------  -----------------  -----------------------  --------------\n",
      "Node_0-nic0-p1  Node_0  net                  0          1E:A3:B0:70:0B:2A  ens7                     ens7\n",
      "Node_1-nic1-p1  Node_1  net                  0          22:0B:58:D9:ED:22  ens7                     ens7\n",
      "\n",
      "Time to print interfaces 206 seconds\n"
     ]
    }
   ],
   "source": [
    "# Slice creation\n",
    "try:    \n",
    "    i = 0\n",
    "    ifaces = []\n",
    "    slice = fablib.new_slice(name=slice_name)\n",
    "    while i < num_nodes:\n",
    "        print(f'Creating Node{i}')\n",
    "        node = slice.add_node(name=f'Node_{i}', site=site, image='default_ubuntu_20')\n",
    "        node.set_capacities(cores=8, ram=16, disk=20)\n",
    "        ifaces.append(node.add_component(model='NIC_Basic', name=f'nic{i}').get_interfaces()[0])\n",
    "        i += 1\n",
    "    net = slice.add_l2network(name=network_name, interfaces=ifaces)\n",
    "    print(\"Submitting slice request\")\n",
    "    slice.submit(wait_timeout=3000, wait_interval=30,)\n",
    "except Exception as e:\n",
    "    print(f\"Exception: {e}\")"
   ]
  },
  {
   "cell_type": "markdown",
   "id": "c5efb270-e62e-4255-a0ae-c58d10348585",
   "metadata": {},
   "source": [
    "# NIC Drivers"
   ]
  },
  {
   "cell_type": "code",
   "execution_count": 11,
   "id": "99b67d4c-b51a-4a3c-b1bf-59aef3a7f4b1",
   "metadata": {},
   "outputs": [
    {
     "name": "stdout",
     "output_type": "stream",
     "text": [
      "Installing network drivers on node Node_0\n",
      "\n",
      "Installing network drivers on node Node_1\n",
      "\n"
     ]
    }
   ],
   "source": [
    "try:\n",
    "    for node in slice.get_nodes():\n",
    "        print(f'Installing network drivers on node {node.get_name()}')\n",
    "        stdout, stderr = node.execute('export DEBIAN_FRONTEND=noninteractive')\n",
    "        stdout, stderr = node.execute('sudo wget -nc -q -P /usr/src https://content.mellanox.com/ofed/MLNX_OFED-5.7-1.0.2.0/MLNX_OFED_LINUX-5.7-1.0.2.0-ubuntu20.04-x86_64.tgz')\n",
    "        stdout, stderr = node.execute('sudo tar -xvf /usr/src/MLNX_OFED_LINUX-5.7-1.0.2.0-ubuntu20.04-x86_64.tgz')\n",
    "        stdout, stderr = node.execute('sudo rm -rf /etc/apt/sources.list.d/mlnx_ofed.list && sudo touch /etc/apt/sources.list.d/mlnx_ofed.list')\n",
    "        stdout, stderr = node.execute(\"echo 'deb file:/home/ubuntu/MLNX_OFED_LINUX-5.7-1.0.2.0-ubuntu20.04-x86_64/DEBS ./' | sudo tee -a /etc/apt/sources.list.d/mlnx_ofed.list\")\n",
    "        stdout, stderr = node.execute('sudo wget -qO - http://www.mellanox.com/downloads/ofed/RPM-GPG-KEY-Mellanox | sudo apt-key add -')\n",
    "        stdout, stderr = node.execute('sudo apt-get update && sudo apt-get install -y -q mlnx-ofed-all mlnx-fw-updater')\n",
    "        stdout, stderr = node.execute('sudo /etc/init.d/openibd restart')\n",
    "        print(stderr)\n",
    "except Exception as e:\n",
    "    print(f\"Exception: {e}\")"
   ]
  },
  {
   "cell_type": "markdown",
   "id": "bfa9a9d2-50f3-4b88-8b2f-ce9eeb6ace3b",
   "metadata": {},
   "source": [
    "# DPDK Installation"
   ]
  },
  {
   "cell_type": "code",
   "execution_count": 22,
   "id": "0fcffa0c-57b4-4573-8ce2-3c16a0314802",
   "metadata": {},
   "outputs": [
    {
     "name": "stdout",
     "output_type": "stream",
     "text": [
      "\n",
      "Installing DPDK on node Node_0\n",
      "hello from core 1\n",
      "hello from core 2\n",
      "hello from core 3\n",
      "hello from core 4\n",
      "hello from core 5\n",
      "hello from core 6\n",
      "hello from core 7\n",
      "hello from core 0\n",
      "\n",
      "\n",
      "Installing DPDK on node Node_1\n",
      "hello from core 1\n",
      "hello from core 2\n",
      "hello from core 3\n",
      "hello from core 4\n",
      "hello from core 5\n",
      "hello from core 6\n",
      "hello from core 7\n",
      "hello from core 0\n",
      "\n"
     ]
    }
   ],
   "source": [
    "try:\n",
    "    for node in slice.get_nodes():\n",
    "        print(f'\\nInstalling DPDK on node {node.get_name()}')\n",
    "        stdout, stderr = node.execute('echo 4096 | sudo tee /sys/devices/system/node/node0/hugepages/hugepages-2048kB/nr_hugepages')\n",
    "        stdout, stderr = node.execute('sudo mkdir -p /mnt/huge; sudo mount -t hugetlbfs pagesize=4GB /mnt/huge')\n",
    "        stdout, stderr = node.execute('sudo apt-get install -y python3-pip linux-generic libelf-dev numactl libnl-3-dev libnuma-dev libpcap-dev libfdt-dev libbsd-dev libssl-dev zlib1g-dev')\n",
    "        stdout, stderr = node.execute('sudo python3 -m pip install pyelftools meson ninja')\n",
    "        stdout, stderr = node.execute('cd /usr/src/ && sudo git clone https://github.com/DPDK/dpdk && cd dpdk && sudo git checkout v20.11')\n",
    "        stdout, stderr = node.execute('cd /usr/src/dpdk/ && sudo meson -Dexamples=all -D disable_drivers=net/mlx4 build && sudo ninja -j 20 -C build && sudo ninja -j 20 -C build install')\n",
    "        stdout, stderr = node.execute('cd /usr/src/dpdk/build/examples/ && sudo ./dpdk-helloworld')\n",
    "        print(stdout)\n",
    "except Exception as e:\n",
    "    print(f\"Exception: {e}\")"
   ]
  },
  {
   "cell_type": "markdown",
   "id": "bfd25b5a-df6b-4b2b-ab01-609d56b084c2",
   "metadata": {},
   "source": [
    "# Delete Slice"
   ]
  },
  {
   "cell_type": "code",
   "execution_count": 7,
   "id": "6ced78fa-661a-4dcc-a771-ef71f5ee4fda",
   "metadata": {},
   "outputs": [],
   "source": [
    "try:\n",
    "    slice = fablib.get_slice(name=slice_name)\n",
    "    slice.wait_ssh()\n",
    "    slice.delete()\n",
    "except Exception as e:\n",
    "    print(f\"Exception: {e}\")"
   ]
  }
 ],
 "metadata": {
  "kernelspec": {
   "display_name": "Python 3 (ipykernel)",
   "language": "python",
   "name": "python3"
  },
  "language_info": {
   "codemirror_mode": {
    "name": "ipython",
    "version": 3
   },
   "file_extension": ".py",
   "mimetype": "text/x-python",
   "name": "python",
   "nbconvert_exporter": "python",
   "pygments_lexer": "ipython3",
   "version": "3.9.7"
  }
 },
 "nbformat": 4,
 "nbformat_minor": 5
}
